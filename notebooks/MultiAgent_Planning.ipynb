{
  "cells": [
    {
      "cell_type": "markdown",
      "metadata": {
        "id": "0RTS5vYyzYbW"
      },
      "source": [
        "# Multi-Agent Plan Example"
      ]
    },
    {
      "cell_type": "markdown",
      "metadata": {
        "id": "qf9CBDuS0mub"
      },
      "source": [
        "This notebook will show how to generate a plan POP from a multi-agent problem"
      ]
    },
    {
      "cell_type": "markdown",
      "metadata": {
        "id": "Nh1CFk_f0usG"
      },
      "source": [
        "## Setup the UP library (multiagent-fmap branch)"
      ]
    },
    {
      "cell_type": "markdown",
      "metadata": {
        "id": "CG_cqDVE0ynZ"
      },
      "source": [
        "We start by installing the library with PIP"
      ]
    },
    {
      "cell_type": "code",
      "execution_count": 1,
      "metadata": {
        "id": "zSBTpd6V020E"
      },
      "outputs": [],
      "source": [
        "# begin of installation"
      ]
    },
    {
      "cell_type": "code",
      "execution_count": 2,
      "metadata": {
        "id": "IlmTj9uq05No",
        "colab": {
          "base_uri": "https://localhost:8080/"
        },
        "outputId": "57da52c9-02db-4b1d-e4bc-2b3eeaf714af"
      },
      "outputs": [
        {
          "output_type": "stream",
          "name": "stdout",
          "text": [
            "Looking in indexes: https://pypi.org/simple, https://us-python.pkg.dev/colab-wheels/public/simple/\n",
            "Collecting unified-planning[fmap]\n",
            "  Downloading unified_planning-0.5.0.360.dev1-py3-none-any.whl (553 kB)\n",
            "\u001b[2K     \u001b[90m━━━━━━━━━━━━━━━━━━━━━━━━━━━━━━━━━━━━━━\u001b[0m \u001b[32m553.9/553.9 KB\u001b[0m \u001b[31m10.2 MB/s\u001b[0m eta \u001b[36m0:00:00\u001b[0m\n",
            "\u001b[?25hRequirement already satisfied: networkx in /usr/local/lib/python3.9/dist-packages (from unified-planning[fmap]) (3.0)\n",
            "Requirement already satisfied: pyparsing>=3 in /usr/local/lib/python3.9/dist-packages (from unified-planning[fmap]) (3.0.9)\n",
            "Collecting up-fmap==0.0.2\n",
            "  Downloading up_fmap-0.0.2-py3-none-any.whl (482 kB)\n",
            "\u001b[2K     \u001b[90m━━━━━━━━━━━━━━━━━━━━━━━━━━━━━━━━━━━━━━\u001b[0m \u001b[32m482.7/482.7 KB\u001b[0m \u001b[31m17.3 MB/s\u001b[0m eta \u001b[36m0:00:00\u001b[0m\n",
            "\u001b[?25hInstalling collected packages: up-fmap, unified-planning\n",
            "Successfully installed unified-planning-0.5.0.360.dev1 up-fmap-0.0.2\n"
          ]
        }
      ],
      "source": [
        "!pip install --pre unified-planning[fmap]"
      ]
    },
    {
      "cell_type": "code",
      "execution_count": 3,
      "metadata": {
        "id": "Vi_pUfS2096G"
      },
      "outputs": [],
      "source": [
        "# end of installation"
      ]
    },
    {
      "cell_type": "markdown",
      "metadata": {
        "id": "1PBUXFsw2__n"
      },
      "source": [
        "Let's start by installing the library! The UP library can be installed directly from PIP with a single command."
      ]
    },
    {
      "cell_type": "markdown",
      "metadata": {
        "id": "3BsXPKZp_vLx"
      },
      "source": [
        "## Creating the ma-depot problem"
      ]
    },
    {
      "cell_type": "code",
      "execution_count": 4,
      "metadata": {
        "id": "EkPYPFyuyZaX"
      },
      "outputs": [],
      "source": [
        "from unified_planning.shortcuts import *\n",
        "from unified_planning.model.multi_agent import *\n",
        "from collections import namedtuple\n",
        "from unified_planning.io.ma_pddl_writer import MAPDDLWriter\n",
        "\n",
        "place = UserType(\"place\")\n",
        "locatable = UserType(\"locatable\")\n",
        "truck = UserType(\"truck\", locatable)\n",
        "hoist = UserType(\"hoist\", locatable)\n",
        "surface = UserType(\"surface\", locatable)\n",
        "pallet = UserType(\"pallet\", surface)\n",
        "crate = UserType(\"crate\", surface)\n",
        "pos = Fluent(\"pos\", place=place)\n",
        "\n",
        "at = Fluent(\"at\", BoolType(), locatable=locatable, place=place)\n",
        "on = Fluent(\"on\", BoolType(), crate=crate, surface=surface)\n",
        "In = Fluent(\"in\", BoolType(), crate=crate, truck=truck)\n",
        "clear = Fluent(\"clear\", BoolType(), surface=surface)\n",
        "\n",
        "available = Fluent(\"available\", hoist=hoist)\n",
        "lifting = Fluent(\"lifting\", hoist=hoist, crate=crate)\n",
        "driving = Fluent(\"driving\", truck=truck)\n",
        "\n",
        "drive = InstantaneousAction(\"drive\", x=truck, y=place, z=place)\n",
        "x = drive.parameter(\"x\")\n",
        "y = drive.parameter(\"y\")\n",
        "z = drive.parameter(\"z\")\n",
        "\n",
        "drive.add_precondition(pos(y))\n",
        "drive.add_precondition(at(x, y))\n",
        "drive.add_precondition(driving(x))\n",
        "drive.add_effect(pos(z), True)\n",
        "drive.add_effect(pos(y), False)\n",
        "drive.add_effect(at(x, z), True)\n",
        "drive.add_effect(at(x, y), False)\n",
        "\n",
        "lift = InstantaneousAction(\"lift\", p=place, x=hoist, y=crate, z=surface)\n",
        "p = lift.parameter(\"p\")\n",
        "x = lift.parameter(\"x\")\n",
        "y = lift.parameter(\"y\")\n",
        "z = lift.parameter(\"z\")\n",
        "\n",
        "lift.add_precondition(pos(p))\n",
        "lift.add_precondition(at(x, p))\n",
        "lift.add_precondition(available(x))\n",
        "lift.add_precondition(at(y, p))\n",
        "lift.add_precondition(on(y, z))\n",
        "lift.add_precondition(clear(y))\n",
        "\n",
        "lift.add_effect(lifting(x, y), True)\n",
        "lift.add_effect(clear(z), True)\n",
        "lift.add_effect(at(y, p), False)\n",
        "lift.add_effect(clear(y), False)\n",
        "lift.add_effect(available(x), False)\n",
        "lift.add_effect(on(y, z), False)\n",
        "\n",
        "drop = InstantaneousAction(\"drop\", p=place, x=hoist, y=crate, z=surface)\n",
        "p = drop.parameter(\"p\")\n",
        "x = drop.parameter(\"x\")\n",
        "y = drop.parameter(\"y\")\n",
        "z = drop.parameter(\"z\")\n",
        "\n",
        "drop.add_precondition(pos(p))\n",
        "drop.add_precondition(at(x, p))\n",
        "drop.add_precondition(at(z, p))\n",
        "drop.add_precondition(clear(z))\n",
        "drop.add_precondition(lifting(x, y))\n",
        "\n",
        "drop.add_effect(available(x), True)\n",
        "drop.add_effect(at(y, p), True)\n",
        "drop.add_effect(clear(y), True)\n",
        "drop.add_effect(on(y, z), True)\n",
        "drop.add_effect(lifting(x, y), False)\n",
        "drop.add_effect(clear(z), False)\n",
        "\n",
        "load = InstantaneousAction(\"load\", p=place, x=hoist, y=crate, z=truck)\n",
        "p = load.parameter(\"p\")\n",
        "x = load.parameter(\"x\")\n",
        "y = load.parameter(\"y\")\n",
        "z = load.parameter(\"z\")\n",
        "\n",
        "load.add_precondition(pos(p))\n",
        "load.add_precondition(at(x, p))\n",
        "load.add_precondition(at(z, p))\n",
        "load.add_precondition(lifting(x, y))\n",
        "\n",
        "load.add_effect(In(y, z), True)\n",
        "load.add_effect(available(x), True)\n",
        "load.add_effect(lifting(x, y), False)\n",
        "\n",
        "unload = InstantaneousAction(\"unload\", p=place, x=hoist, y=crate, z=truck)\n",
        "p = unload.parameter(\"p\")\n",
        "x = unload.parameter(\"x\")\n",
        "y = unload.parameter(\"y\")\n",
        "z = unload.parameter(\"z\")\n",
        "\n",
        "unload.add_precondition(pos(p))\n",
        "unload.add_precondition(at(x, p))\n",
        "unload.add_precondition(at(z, p))\n",
        "unload.add_precondition(available(x))\n",
        "unload.add_precondition(In(y, z))\n",
        "\n",
        "unload.add_effect(lifting(x, y), True)\n",
        "unload.add_effect(In(y, z), False)\n",
        "unload.add_effect(available(x), False)\n",
        "\n",
        "problem = MultiAgentProblem(\"depot\")\n",
        "\n",
        "depot0_a = Agent(\"depot0_agent\", problem)\n",
        "distributor0_a = Agent(\"distributor0_agent\", problem)\n",
        "distributor1_a = Agent(\"distributor1_agent\", problem)\n",
        "driver0_a = Agent(\"driver0_agent\", problem)\n",
        "driver1_a = Agent(\"driver1_agent\", problem)\n",
        "\n",
        "driver0_a.add_action(drive)\n",
        "driver1_a.add_action(drive)\n",
        "\n",
        "depot0_a.add_action(lift)\n",
        "depot0_a.add_action(drop)\n",
        "depot0_a.add_action(load)\n",
        "depot0_a.add_action(unload)\n",
        "\n",
        "distributor0_a.add_action(lift)\n",
        "distributor0_a.add_action(drop)\n",
        "distributor0_a.add_action(load)\n",
        "distributor0_a.add_action(unload)\n",
        "\n",
        "distributor1_a.add_action(lift)\n",
        "distributor1_a.add_action(drop)\n",
        "distributor1_a.add_action(load)\n",
        "distributor1_a.add_action(unload)\n",
        "\n",
        "problem.ma_environment.add_fluent(at, default_initial_value=False)\n",
        "problem.ma_environment.add_fluent(on, default_initial_value=False)\n",
        "problem.ma_environment.add_fluent(In, default_initial_value=False)\n",
        "problem.ma_environment.add_fluent(clear, default_initial_value=False)\n",
        "depot0_a.add_private_fluent(lifting, default_initial_value=False)\n",
        "depot0_a.add_private_fluent(available, default_initial_value=False)\n",
        "\n",
        "distributor0_a.add_private_fluent(lifting, default_initial_value=False)\n",
        "distributor0_a.add_private_fluent(available, default_initial_value=False)\n",
        "\n",
        "distributor1_a.add_private_fluent(lifting, default_initial_value=False)\n",
        "distributor1_a.add_private_fluent(available, default_initial_value=False)\n",
        "\n",
        "driver0_a.add_private_fluent(driving, default_initial_value=False)\n",
        "driver1_a.add_private_fluent(driving, default_initial_value=False)\n",
        "\n",
        "depot0_a.add_public_fluent(pos, default_initial_value=False)\n",
        "distributor0_a.add_public_fluent(pos, default_initial_value=False)\n",
        "distributor1_a.add_public_fluent(pos, default_initial_value=False)\n",
        "driver0_a.add_public_fluent(pos, default_initial_value=False)\n",
        "driver1_a.add_public_fluent(pos, default_initial_value=False)\n",
        "\n",
        "problem.add_agent(depot0_a)\n",
        "problem.add_agent(distributor0_a)\n",
        "problem.add_agent(distributor1_a)\n",
        "problem.add_agent(driver0_a)\n",
        "problem.add_agent(driver1_a)\n",
        "\n",
        "truck0 = Object(\"truck0\", truck)\n",
        "truck1 = Object(\"truck1\", truck)\n",
        "depot0_place = Object(\"depot0_place\", place)\n",
        "distributor0_place = Object(\"distributor0_place\", place)\n",
        "distributor1_place = Object(\"distributor1_place\", place)\n",
        "crate0 = Object(\"crate0\", crate)\n",
        "crate1 = Object(\"crate1\", crate)\n",
        "pallet0 = Object(\"pallet0\", pallet)\n",
        "pallet1 = Object(\"pallet1\", pallet)\n",
        "pallet2 = Object(\"pallet2\", pallet)\n",
        "\n",
        "hoist0 = Object(\"hoist0\", hoist)\n",
        "hoist1 = Object(\"hoist1\", hoist)\n",
        "hoist2 = Object(\"hoist2\", hoist)\n",
        "\n",
        "\n",
        "problem.add_object(crate0)\n",
        "problem.add_object(crate1)\n",
        "problem.add_object(truck0)\n",
        "problem.add_object(truck1)\n",
        "problem.add_object(depot0_place)\n",
        "problem.add_object(distributor0_place)\n",
        "problem.add_object(distributor1_place)\n",
        "problem.add_object(pallet0)\n",
        "problem.add_object(pallet1)\n",
        "problem.add_object(pallet2)\n",
        "problem.add_object(hoist0)\n",
        "problem.add_object(hoist1)\n",
        "problem.add_object(hoist2)\n",
        "\n",
        "\n",
        "problem.set_initial_value(at(pallet0, depot0_place), True)\n",
        "problem.set_initial_value(clear(crate1), True)\n",
        "problem.set_initial_value(at(pallet1, distributor0_place), True)\n",
        "problem.set_initial_value(clear(crate0), True)\n",
        "problem.set_initial_value(at(pallet2, distributor1_place), True)\n",
        "problem.set_initial_value(clear(pallet2), True)\n",
        "\n",
        "problem.set_initial_value(at(truck0, distributor1_place), True)\n",
        "problem.set_initial_value(at(truck1, depot0_place), True)\n",
        "problem.set_initial_value(at(hoist0, depot0_place), True)\n",
        "problem.set_initial_value(at(hoist1, distributor0_place), True)\n",
        "problem.set_initial_value(at(hoist2, distributor1_place), True)\n",
        "problem.set_initial_value(at(crate0, distributor0_place), True)\n",
        "problem.set_initial_value(on(crate0, pallet1), True)\n",
        "problem.set_initial_value(at(crate1, depot0_place), True)\n",
        "problem.set_initial_value(on(crate1, pallet0), True)\n",
        "\n",
        "problem.set_initial_value(\n",
        "    Dot(driver0_a, pos(distributor1_place)), True\n",
        ")  \n",
        "problem.set_initial_value(Dot(driver1_a, pos(depot0_place)), True)\n",
        "problem.set_initial_value(Dot(depot0_a, pos(depot0_place)), True)\n",
        "problem.set_initial_value(Dot(depot0_a, available(hoist0)), True)\n",
        "problem.set_initial_value(Dot(distributor0_a, available(hoist1)), True)\n",
        "problem.set_initial_value(Dot(distributor1_a, available(hoist2)), True)\n",
        "\n",
        "problem.set_initial_value(Dot(distributor0_a, pos(distributor0_place)), True)\n",
        "problem.set_initial_value(Dot(distributor1_a, pos(distributor1_place)), True)\n",
        "\n",
        "problem.set_initial_value(Dot(driver0_a, driving(truck0)), True)\n",
        "problem.set_initial_value(Dot(driver1_a, driving(truck1)), True)\n",
        "\n",
        "problem.add_goal(on(crate0, pallet2))\n",
        "problem.add_goal(on(crate1, pallet1))"
      ]
    },
    {
      "cell_type": "markdown",
      "source": [
        "Depot domain explained: https://www.jair.org/index.php/jair/article/view/10351/24754\n",
        "\n",
        "Derek Long and Maria Fox. 2003. The 3rd International Planning Competition:\n",
        "Results and Analysis. J. Artif. Intell. Res. (JAIR) 20 (12 2003)."
      ],
      "metadata": {
        "id": "33sSsdBEYzPA"
      }
    },
    {
      "cell_type": "markdown",
      "metadata": {
        "id": "9iv_1wUC1GnN"
      },
      "source": [
        "## Solving Multi-Agent Planning Problems"
      ]
    },
    {
      "cell_type": "markdown",
      "metadata": {
        "id": "KOGieQQD143a"
      },
      "source": [
        "The most direct way to solve a planning problem is to select an available planning engine by name and use it to solve the problem. In the following we use fmap to solve the problem and print the plan."
      ]
    },
    {
      "cell_type": "code",
      "execution_count": 15,
      "metadata": {
        "colab": {
          "base_uri": "https://localhost:8080/"
        },
        "id": "Ywv3VegrzSdP",
        "outputId": "737eb8b3-f561-4ea0-9235-0a1635ebe164"
      },
      "outputs": [
        {
          "output_type": "stream",
          "name": "stdout",
          "text": [
            "\u001b[96m  *** Credits ***\n",
            "\u001b[0m\u001b[96m  * In operation mode `OneshotPlanner` at line 1 of `<ipython-input-15-979ddb3cb595>`, \u001b[0m\u001b[96myou are using the following planning engine:\n",
            "\u001b[0m\u001b[96m  * Engine name: FMAP\n",
            "  * Developers:  Alejandro Torreño, Oscar Sapena and Eva Onaindia\n",
            "\u001b[0m\u001b[96m  * Description: \u001b[0m\u001b[96mFMAP: A Platform for the Development of Distributed Multi-Agent Planning Systems.\u001b[0m\u001b[96m\n",
            "\u001b[0m\u001b[96m\n",
            "\u001b[0mFMAP returned: DiGraph with 10 nodes and 10 edges\n"
          ]
        }
      ],
      "source": [
        "with OneshotPlanner(problem_kind=problem.kind) as planner:\n",
        "    result = planner.solve(problem)\n",
        "    plan = result.plan\n",
        "    if plan is not None:\n",
        "        print(\"FMAP returned: %s\" % result.plan)\n",
        "    else:\n",
        "        print(\"No plan found.\")"
      ]
    },
    {
      "cell_type": "markdown",
      "metadata": {
        "id": "l08m2pEZ2EbQ"
      },
      "source": [
        "The unified_planning can also automatically select, among the available planners installed on the system, one that is expressive enough for the problem at hand."
      ]
    },
    {
      "cell_type": "markdown",
      "metadata": {
        "id": "lKD2pzHy5u11"
      },
      "source": [
        "The `all_sequential_plans()` method returns all possible `SequentialPlans` that respects the sorting constraints given by this `PartialOrderPlan`"
      ]
    },
    {
      "cell_type": "markdown",
      "metadata": {
        "id": "U1HjZV7t2Wku"
      },
      "source": [
        "We can also show all the possible `sequential plans` of this problem."
      ]
    },
    {
      "cell_type": "code",
      "execution_count": null,
      "metadata": {
        "id": "Qvp3xvf22FNC",
        "colab": {
          "base_uri": "https://localhost:8080/"
        },
        "outputId": "7dd5b5dd-dfb6-42c5-c258-f48b3eb2670b"
      },
      "outputs": [
        {
          "output_type": "stream",
          "name": "stdout",
          "text": [
            "\u001b[96m  *** Credits ***\n",
            "\u001b[0m\u001b[96m  * In operation mode `OneshotPlanner` at line 1 of `<ipython-input-16-55458cfe4bfa>`, \u001b[0m\u001b[96myou are using the following planning engine:\n",
            "\u001b[0m\u001b[96m  * Engine name: FMAP\n",
            "  * Developers:  Alejandro Torreño, Oscar Sapena and Eva Onaindia\n",
            "\u001b[0m\u001b[96m  * Description: \u001b[0m\u001b[96mFMAP: A Platform for the Development of Distributed Multi-Agent Planning Systems.\u001b[0m\u001b[96m\n",
            "\u001b[0m\u001b[96m\n",
            "\u001b[0m"
          ]
        }
      ],
      "source": [
        "with OneshotPlanner(problem_kind=problem.kind) as planner:\n",
        "    result = planner.solve(problem)\n",
        "    print(\"%s returned Sequential Plans object: %s\" % (planner.name, result.plan.all_sequential_plans()))\n",
        "    [print(f\"{idx} Sequential Plan: {seq_plan}\") for idx, seq_plan in enumerate(result.plan.all_sequential_plans())]"
      ]
    },
    {
      "cell_type": "markdown",
      "metadata": {
        "id": "OTreaAuL_PFp"
      },
      "source": [
        "Returns the graph of action instances as an adjacency list."
      ]
    },
    {
      "cell_type": "code",
      "execution_count": null,
      "metadata": {
        "id": "ScjW8G9u1Kp9"
      },
      "outputs": [],
      "source": [
        "print(\"Adjacency list:\", result.plan.get_adjacency_list)"
      ]
    },
    {
      "cell_type": "markdown",
      "source": [
        "###Creating a POP graph"
      ],
      "metadata": {
        "id": "hP3oF6z5kNYA"
      }
    },
    {
      "cell_type": "markdown",
      "source": [
        "We can create an output file for the Graphviz tool"
      ],
      "metadata": {
        "id": "WoWHRUGcr6ix"
      }
    },
    {
      "cell_type": "code",
      "source": [
        "print(\"Returned depot_graph: \\n\", result.plan.get_graph_file(\"depot_graph\"))"
      ],
      "metadata": {
        "id": "fb-tzmnhsTVe"
      },
      "execution_count": null,
      "outputs": []
    },
    {
      "cell_type": "markdown",
      "source": [
        "We can use the Graphviz library to create the graph image from our depot_graph.dot"
      ],
      "metadata": {
        "id": "9TRxk_AJkkwE"
      }
    },
    {
      "cell_type": "code",
      "source": [
        "!pip install graphviz"
      ],
      "metadata": {
        "id": "w6mHYacjuH2l"
      },
      "execution_count": null,
      "outputs": []
    },
    {
      "cell_type": "code",
      "source": [
        "import graphviz\n",
        "from IPython.display import Image"
      ],
      "metadata": {
        "id": "ACGBDyF9x8m-"
      },
      "execution_count": null,
      "outputs": []
    },
    {
      "cell_type": "code",
      "source": [
        "graph = graphviz.Source.from_file('depot_graph.dot')\n",
        "graph.render('graph', format='png')\n",
        "Image(filename='graph.png')"
      ],
      "metadata": {
        "id": "2URfWQApzMsz"
      },
      "execution_count": null,
      "outputs": []
    },
    {
      "cell_type": "markdown",
      "source": [],
      "metadata": {
        "id": "Uonk21Lb9k_0"
      }
    },
    {
      "cell_type": "code",
      "source": [],
      "metadata": {
        "id": "viq_ReodsPNz"
      },
      "execution_count": null,
      "outputs": []
    }
  ],
  "metadata": {
    "colab": {
      "provenance": []
    },
    "kernelspec": {
      "display_name": "Python 3",
      "name": "python3"
    },
    "language_info": {
      "name": "python"
    }
  },
  "nbformat": 4,
  "nbformat_minor": 0
}