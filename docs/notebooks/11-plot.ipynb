{
 "cells": [
  {
   "cell_type": "markdown",
   "metadata": {
    "id": "6nOTljC_mTMn"
   },
   "source": [
    "## Plot library\n",
    "\n",
    "This python notebook shows how to use the plot package of the Unified Planning.\n",
    "\n",
    "[![Open In GitHub](https://img.shields.io/badge/see-Github-579aca?logo=github)](https:///github.com/aiplan4eu/unified-planning/blob/master/docs/notebooks/11-plot.ipynb)\n",
    "[![Open In Colab](https://colab.research.google.com/assets/colab-badge.svg)](https://colab.research.google.com/github/aiplan4eu/unified-planning/blob/master/docs/notebooks/11-plot.ipynb)\n"
   ]
  },
  {
   "cell_type": "markdown",
   "metadata": {
    "id": "t8dCcpf7mivV"
   },
   "source": [
    "### Setup\n",
    "\n",
    "We start by downloading (from github) the unified planning library."
   ]
  },
  {
   "cell_type": "code",
   "execution_count": null,
   "metadata": {
    "id": "BoqALxJWdfl8",
    "scrolled": true,
    "tags": [
     "remove_from_CI"
    ]
   },
   "outputs": [],
   "source": [
    "!pip install --pre unified-planning"
   ]
  },
  {
   "cell_type": "markdown",
   "metadata": {
    "id": "iNHFHxQKnKIp"
   },
   "source": [
    "We are now ready to plot some plans using the Unified-Planning library!"
   ]
  },
  {
   "cell_type": "markdown",
   "metadata": {
    "id": "9dP5scv7nNJu"
   },
   "source": [
    "### Imports\n",
    "We need to import all the types of plan we want to plot, the plot functions and the actions."
   ]
  },
  {
   "cell_type": "code",
   "execution_count": null,
   "metadata": {
    "id": "06rETnGAfQHg"
   },
   "outputs": [],
   "source": [
    "import unified_planning\n",
    "from unified_planning.plans import (\n",
    "    SequentialPlan,\n",
    "    TimeTriggeredPlan,\n",
    "    PartialOrderPlan,\n",
    "    ContingentPlanNode,\n",
    "    ContingentPlan,\n",
    "    STNPlanNode,\n",
    "    STNPlan,\n",
    ")\n",
    "from unified_planning.plot import (\n",
    "    plot_plan, # plot_plan plots all the types of plans, but is not customizable, while specific methods6\n",
    "    plot_sequential_plan,\n",
    "    plot_time_triggered_plan,\n",
    "    plot_partial_order_plan,\n",
    "    plot_contingent_plan,\n",
    "    plot_stn_plan,\n",
    ")\n",
    "from unified_planning.model import InstantaneousAction, DurativeAction, TimepointKind, Fluent, Problem, Object\n",
    "from unified_planning.shortcuts import BoolType, UserType, IntType, RealType"
   ]
  },
  {
   "cell_type": "markdown",
   "metadata": {
    "id": "i8J7rP0cnvXq"
   },
   "source": [
    "### Sequential Plan\n",
    "\n",
    "A SequentialPlan is simply a sequence of actions."
   ]
  },
  {
   "cell_type": "code",
   "execution_count": null,
   "metadata": {
    "id": "huAy2IbVn0GZ",
    "scrolled": true
   },
   "outputs": [],
   "source": [
    "actions = list((InstantaneousAction(f\"a{i}\") for i in range(1, 5)))\n",
    "sequential_plan = SequentialPlan([a() for a in actions])\n",
    "\n",
    "plot_sequential_plan(sequential_plan, font_size=14)"
   ]
  },
  {
   "cell_type": "markdown",
   "metadata": {},
   "source": [
    "#### Plotting fluents in SequentialPlan\n",
    "\n",
    "On a SequentialPlan, if the UPSequentialSimulator (in the up.engines.sequential_simulator.py) supports the Problem, the value of some arbitrary expressions or the value of some quality metrics can be plotted. This shows how the value changes during the plan. \n",
    "\n",
    "Only numeric or boolean expressions can be plotted."
   ]
  },
  {
   "cell_type": "markdown",
   "metadata": {},
   "source": [
    "##### Define the problem\n",
    "\n",
    "The problem defined is a robot that moves from l1 to l4, passing through l2 and l3.\n",
    "\n",
    "While moving, the battery decreases based on the distance from the locations and the total distance accumulates.\n",
    "\n",
    "Note: the problem has specified only the parts interesting for this simulation. It's not a complete problem to give to a planner."
   ]
  },
  {
   "cell_type": "code",
   "execution_count": null,
   "metadata": {},
   "outputs": [],
   "source": [
    "# Define the UserType\n",
    "Location = UserType(\"Location\")\n",
    "\n",
    "# Define fluents\n",
    "robot_at = Fluent(\"robot_at\", BoolType(), position=Location)\n",
    "battery_charge = Fluent(\"battery_charge\", RealType(0, 100))\n",
    "distance = Fluent(\"distance\", IntType(), l_from=Location, l_to=Location)\n",
    "total_distance = Fluent(\"total_distance\", IntType())\n",
    "\n",
    "# Define the move action\n",
    "move = InstantaneousAction(\"move\", l_from=Location, l_to=Location)\n",
    "l_from = move.parameter(\"l_from\")\n",
    "l_to = move.parameter(\"l_to\")\n",
    "move.add_precondition(robot_at(l_from))\n",
    "move.add_effect(robot_at(l_from), False)\n",
    "move.add_effect(robot_at(l_to), True)\n",
    "move.add_decrease_effect(battery_charge, distance(l_from, l_to)/2 + 5)\n",
    "move.add_increase_effect(total_distance, distance(l_from, l_to))\n",
    "\n",
    "# Define the Location Objects\n",
    "objects = list((Object(f\"l{i}\", Location) for i in range(1, 5)))\n",
    "l1, l2, l3, l4 = objects\n",
    "\n",
    "# Create the problem, add fluents, the move action and the objects\n",
    "problem = Problem(\"moving robot\")\n",
    "problem.add_fluent(robot_at, default_initial_value=False)\n",
    "problem.add_fluent(battery_charge, default_initial_value=100)\n",
    "problem.add_fluent(distance, default_initial_value=0)\n",
    "problem.add_fluent(total_distance, default_initial_value=0)\n",
    "problem.add_action(move)\n",
    "problem.add_objects(objects)\n",
    "\n",
    "# Set the initial values different from the defaults\n",
    "problem.set_initial_value(robot_at(l1), True)\n",
    "problem.set_initial_value(distance(l1, l2), 26)\n",
    "problem.set_initial_value(distance(l2, l3), 50)\n",
    "problem.set_initial_value(distance(l3, l4), 10)\n",
    "\n",
    "# Create the plan to simulate\n",
    "plan = SequentialPlan([\n",
    "    move(l1, l2),\n",
    "    move(l2, l3),\n",
    "    move(l3, l4),\n",
    "])"
   ]
  },
  {
   "cell_type": "code",
   "execution_count": null,
   "metadata": {
    "scrolled": true
   },
   "outputs": [],
   "source": [
    "plot_sequential_plan(plan, problem, [battery_charge, total_distance])"
   ]
  },
  {
   "cell_type": "markdown",
   "metadata": {
    "id": "fDukLfPPn20t"
   },
   "source": [
    "### TimeTriggeredPlan\n",
    "\n",
    "A TimeTriggeredPlan is a sequence of 3 items. Every items is composed by an action, the time in which the action starts, and, if the action is a DurativeAction, the action duration."
   ]
  },
  {
   "cell_type": "code",
   "execution_count": null,
   "metadata": {
    "id": "LZUgad7ZoA2p",
    "scrolled": true
   },
   "outputs": [],
   "source": [
    "a1, a2, a3, a4 = (DurativeAction(f\"a{i}\") for i in range(1, 5))\n",
    "time_triggered_plan = TimeTriggeredPlan([\n",
    "    (0, a1(), 3),\n",
    "    (1, a2(), 3),\n",
    "    (2, a3(), 2),\n",
    "    (2, a4(), 1),\n",
    "])\n",
    "# The plan can be plotted with plot_time_triggered_plan\n",
    "plot_plan(time_triggered_plan)"
   ]
  },
  {
   "cell_type": "markdown",
   "metadata": {},
   "source": [
    "### PartialOrderPlan\n",
    "\n",
    "A PartialOrderPlan is a directed graph where the nodes are ActionInstances and the edges create an ordering between 2 actions.\n",
    "\n",
    "In the unified_planning, a ParitalOrderPlan is created with the adjacency list.\n",
    "\n",
    "Generally speaking, a SequentialPlan is a specific case of a PartialOrderPlan where every action has only one possible action that must be done before and one action that must be done later."
   ]
  },
  {
   "cell_type": "code",
   "execution_count": null,
   "metadata": {},
   "outputs": [],
   "source": [
    "ai1, ai2, ai3, ai4, ai5, ai6, ai7, ai8 = (InstantaneousAction(f\"a{i}\")() for i in range(1, 9))\n",
    "partial_order_plan = PartialOrderPlan({\n",
    "    ai1: [ai2],\n",
    "    ai2: [ai4],\n",
    "    ai3: [ai4],\n",
    "    ai4: [ai5, ai6],\n",
    "    ai5: [ai7],\n",
    "    ai6: [ai8],\n",
    "    ai7: [ai8],\n",
    "})\n",
    "plot_partial_order_plan(partial_order_plan, font_size=16)"
   ]
  },
  {
   "cell_type": "markdown",
   "metadata": {},
   "source": [
    "### STNPlan\n",
    "\n",
    "An STNPlan represents the temporal constraints from the events that must be performed during the plan.\n",
    "\n",
    "An event is either the start of the plan, the end of the plan, the start of an action or the end of an action.\n",
    "\n",
    "It is represented as a directed graph, where the nodes are the events.\n",
    "\n",
    "There is an edge from the node N to the node M if N and M have a relative temporal constraint.\n",
    "The edge is labeled with 2 numbers, the lower bound and the upper bound to the time that can elapse from N to M.\n",
    "\n",
    "For example, N --[0, 7]--> M means that M must happen after -or at the same time, since 0 is included- N, but no more than 7 time units later."
   ]
  },
  {
   "cell_type": "code",
   "execution_count": null,
   "metadata": {
    "scrolled": true
   },
   "outputs": [],
   "source": [
    "ai1, ai2, ai3, ai4 = (InstantaneousAction(f\"a{i}\")() for i in range(1, 5))\n",
    "start_a1 = STNPlanNode(TimepointKind.START, ai1)\n",
    "end_a1 = STNPlanNode(TimepointKind.END, ai1)\n",
    "start_a2 = STNPlanNode(TimepointKind.START, ai2)\n",
    "end_a2 = STNPlanNode(TimepointKind.END, ai2)\n",
    "start_a3 = STNPlanNode(TimepointKind.START, ai3)\n",
    "end_a3 = STNPlanNode(TimepointKind.END, ai3)\n",
    "start_a4 = STNPlanNode(TimepointKind.START, ai4)\n",
    "end_a4 = STNPlanNode(TimepointKind.END, ai4)\n",
    "stn_plan = STNPlan([\n",
    "    (start_a1, 1, 1, end_a1), # Link start to end actions\n",
    "    (start_a2, 0, 3, end_a2),\n",
    "    (start_a3, 0, 3, end_a3),\n",
    "    (start_a4, 0, 3, end_a4),\n",
    "    (end_a1, 0, None, start_a2), # Action 1 must finish before action 2 start (or in the same moment)\n",
    "    (end_a3, None, 1, end_a4), # Action 3 can finish AT most 1 after the end of Action4\n",
    "])\n",
    "plot_stn_plan(stn_plan)"
   ]
  },
  {
   "cell_type": "markdown",
   "metadata": {},
   "source": [
    "### ContingentPlan\n",
    "\n",
    "A ContingentPlan is represented as a decision tree. Some actions can sense the initially unknown value of one or more fluents and decide which action to perform next based on the sensed values.\n",
    "\n",
    "It is represented as a directed graph, with the nodes containing the action to perform and the edges labeled as the expression that must be True in order to take that branch."
   ]
  },
  {
   "cell_type": "code",
   "execution_count": null,
   "metadata": {
    "scrolled": true
   },
   "outputs": [],
   "source": [
    "from unified_planning.shortcuts import *\n",
    "ai1, ai2, ai3, ai4, ai5 = (InstantaneousAction(f\"a{i}\")() for i in range(1, 6))\n",
    "node_1 = ContingentPlanNode(ai1)\n",
    "node_2 = ContingentPlanNode(ai2)\n",
    "node_3 = ContingentPlanNode(ai3)\n",
    "node_4 = ContingentPlanNode(ai4)\n",
    "node_5 = ContingentPlanNode(ai5)\n",
    "x, y = Fluent(\"x\"), Fluent(\"y\")\n",
    "node_1.add_child({x: TRUE()}, node_2)\n",
    "node_1.add_child({x: FALSE()}, node_3)\n",
    "node_3.add_child({y: TRUE()}, node_4)\n",
    "node_3.add_child({y: FALSE()}, node_5)\n",
    "contingent_plan = ContingentPlan(node_1)\n",
    "plot_contingent_plan(contingent_plan, font_size = 14, edge_font_size = 12)"
   ]
  }
 ],
 "metadata": {
  "celltoolbar": "Tags",
  "colab": {
   "collapsed_sections": [],
   "name": "UP plot package",
   "provenance": []
  },
  "kernelspec": {
   "display_name": "Python 3 (ipykernel)",
   "language": "python",
   "name": "python3"
  },
  "language_info": {
   "codemirror_mode": {
    "name": "ipython",
    "version": 3
   },
   "file_extension": ".py",
   "mimetype": "text/x-python",
   "name": "python",
   "nbconvert_exporter": "python",
   "pygments_lexer": "ipython3",
   "version": "3.10.6"
  },
  "vscode": {
   "interpreter": {
    "hash": "fcfc934ecfdac8ddac62d6a80ba8d82faf47dc8d54fd6a313f0c016b85ebec0e"
   }
  }
 },
 "nbformat": 4,
 "nbformat_minor": 1
}
