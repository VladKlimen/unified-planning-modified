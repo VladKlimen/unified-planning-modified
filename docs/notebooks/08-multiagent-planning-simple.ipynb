{
  "nbformat": 4,
  "nbformat_minor": 0,
  "metadata": {
    "colab": {
      "provenance": []
    },
    "kernelspec": {
      "name": "python3",
      "display_name": "Python 3"
    },
    "language_info": {
      "name": "python"
    }
  },
  "cells": [
    {
      "cell_type": "markdown",
      "source": [
        "# Multi-Agent Plan Simple Example"
      ],
      "metadata": {
        "id": "QiGealjaVJNw"
      }
    },
    {
      "cell_type": "markdown",
      "source": [
        "We start by installing the library with PIP"
      ],
      "metadata": {
        "id": "JvKlg7cm8tBo"
      }
    },
    {
      "cell_type": "code",
      "source": [
        "# begin of installation"
      ],
      "metadata": {
        "id": "M6y2bu3v8m_r"
      },
      "execution_count": null,
      "outputs": []
    },
    {
      "cell_type": "code",
      "execution_count": null,
      "metadata": {
        "colab": {
          "base_uri": "https://localhost:8080/"
        },
        "id": "aIxg95xz5EMo",
        "outputId": "49c6f286-6052-4118-fb01-cd19d3b53271"
      },
      "outputs": [
        {
          "output_type": "stream",
          "name": "stdout",
          "text": [
            "Looking in indexes: https://pypi.org/simple, https://us-python.pkg.dev/colab-wheels/public/simple/\n",
            "Collecting unified-planning[fmap]\n",
            "  Downloading unified_planning-0.5.0.279.dev1-py3-none-any.whl (537 kB)\n",
            "\u001b[2K     \u001b[90m━━━━━━━━━━━━━━━━━━━━━━━━━━━━━━━━━━━━━━━\u001b[0m \u001b[32m537.1/537.1 KB\u001b[0m \u001b[31m6.2 MB/s\u001b[0m eta \u001b[36m0:00:00\u001b[0m\n",
            "\u001b[?25hRequirement already satisfied: networkx in /usr/local/lib/python3.8/dist-packages (from unified-planning[fmap]) (3.0)\n",
            "Requirement already satisfied: pyparsing>=3 in /usr/local/lib/python3.8/dist-packages (from unified-planning[fmap]) (3.0.9)\n",
            "Collecting up-fmap==0.0.2\n",
            "  Downloading up_fmap-0.0.2-py3-none-any.whl (482 kB)\n",
            "\u001b[2K     \u001b[90m━━━━━━━━━━━━━━━━━━━━━━━━━━━━━━━━━━━━━━\u001b[0m \u001b[32m482.7/482.7 KB\u001b[0m \u001b[31m18.4 MB/s\u001b[0m eta \u001b[36m0:00:00\u001b[0m\n",
            "\u001b[?25hInstalling collected packages: up-fmap, unified-planning\n",
            "Successfully installed unified-planning-0.5.0.279.dev1 up-fmap-0.0.2\n"
          ]
        }
      ],
      "source": [
        "!pip install --pre unified-planning[fmap]"
      ]
    },
    {
      "cell_type": "code",
      "source": [
        "# end of installation"
      ],
      "metadata": {
        "id": "MaIExCVM8ooz"
      },
      "execution_count": null,
      "outputs": []
    },
    {
      "cell_type": "markdown",
      "source": [
        "## Creating the simple-MA problem"
      ],
      "metadata": {
        "id": "Vh5X0ZqRVVEA"
      }
    },
    {
      "cell_type": "code",
      "source": [
        "from unified_planning.shortcuts import *\n",
        "from unified_planning.model.multi_agent import *\n",
        "from collections import namedtuple\n",
        "from unified_planning.io.ma_pddl_writer import MAPDDLWriter\n",
        "\n",
        "\n",
        "problem = MultiAgentProblem(\"simple_MA\")\n",
        "\n",
        "#AGENTs\n",
        "robot_a = Agent(\"robot_a\", problem)\n",
        "scale_a = Agent(\"scale_a\", problem)\n",
        "\n",
        "Location = UserType(\"Location\")\n",
        "door = UserType(\"door\")\n",
        "\n",
        "home = Object(\"home\", Location)\n",
        "office = Object(\"office\", Location)\n",
        "open20 = Object(\"open20\", door)\n",
        "close20 = Object(\"close20\", door)\n",
        "\n",
        "#FLUENTs\n",
        "open = Fluent(\"open\", door=door)\n",
        "pos = Fluent(\"pos\", loc=Location)\n",
        "\n",
        "robot_a.add_fluent(pos, default_initial_value=False)\n",
        "scale_a.add_fluent(open, default_initial_value=False)\n",
        "\n",
        "#ACTIONs\n",
        "movegripper = InstantaneousAction(\"movegripper\")\n",
        "movegripper.add_precondition(pos(office))\n",
        "movegripper.add_effect(pos(home), True)\n",
        "\n",
        "open_door = InstantaneousAction(\"open_door\")\n",
        "open_door.add_precondition(open(close20))\n",
        "open_door.add_effect(open(open20), True)\n",
        "\n",
        "robot_a.add_action(movegripper)\n",
        "scale_a.add_action(open_door)\n",
        "\n",
        "#OBJECTs\n",
        "problem.add_object(home)\n",
        "problem.add_object(office)\n",
        "problem.add_object(open20)\n",
        "problem.add_object(close20)\n",
        "\n",
        "problem.add_agent(robot_a)\n",
        "problem.add_agent(scale_a)\n",
        "\n",
        "#INITIAL VALUEs\n",
        "problem.set_initial_value(Dot(robot_a, pos(office)), True)\n",
        "problem.set_initial_value(Dot(scale_a, open(close20)), True)\n",
        "\n",
        "#GOALs\n",
        "problem.add_goal(Dot(robot_a, pos(home)))\n",
        "problem.add_goal(Dot(scale_a, open(open20)))\n",
        "\n",
        "w = MAPDDLWriter(problem)\n",
        "w.write_ma_domain(\"simple_ma\")\n",
        "w.write_ma_problem(\"simple_ma\")"
      ],
      "metadata": {
        "id": "a9-Qdqvz5FF9"
      },
      "execution_count": null,
      "outputs": []
    },
    {
      "cell_type": "markdown",
      "source": [
        "## Solving Multi-Agent Planning Problems"
      ],
      "metadata": {
        "id": "UxrMTuOqVmzJ"
      }
    },
    {
      "cell_type": "markdown",
      "source": [
        "The user can enter the following optional parameters in order to configure the search procedure:\n",
        "\n",
        "`result = planner.solve(problem, \"-s\", \"h\")`:\n",
        "\n",
        "- s N selects the search strategy of FMAP. Currently, FMAP supports only an A search scheme, which is the default value of the tag -s (-s None)"
      ],
      "metadata": {
        "id": "WeCeV3WrXYNZ"
      }
    },
    {
      "cell_type": "markdown",
      "source": [
        "- h N selects the heuristic function(s) used to evaluate the quality of the plans. Currently, the following values for N are supported:\n",
        "\n",
        "  - 0 - FF heuristic: guides the search through the well-known h_FF heuristic function. This option is available for single-agent planning tasks only.\n",
        "  - 1 - DTG heuristic: evaluates plans via the heuristic h_DTG.\n",
        "  - 2 - default option - DTG + Landmarks: this option applies the multi-heuristic search scheme of the MH-FMAP solver by combining the h_DTG and h_Land heuristics to guide the search.\n",
        "  - 3 - Inc. DTG + Landmarks: incremental multi-heuristic mode that makes use of h_DTG and h_Land."
      ],
      "metadata": {
        "id": "9SRCqarrVo6H"
      }
    },
    {
      "cell_type": "code",
      "source": [
        "with OneshotPlanner(name='fmap') as planner:\n",
        "    result = planner.solve(problem, None, \"1\")\n",
        "    if result.status == up.engines.PlanGenerationResultStatus.SOLVED_SATISFICING:\n",
        "        print(\"%s Returned Sequential Plans object: %s\" % (planner.name, result.plan.all_sequential_plans()))\n",
        "        [print(f\"{idx} Sequential Plans: {seq_plan}\") for idx, seq_plan in enumerate(result.plan.all_sequential_plans())]\n",
        "        print(\"Adjacency list:\", result.plan.get_adjacency_list)\n",
        "        print(\"result:\", result)\n",
        "    else:\n",
        "        print(\"Log Error:\", result)"
      ],
      "metadata": {
        "colab": {
          "base_uri": "https://localhost:8080/"
        },
        "id": "4OF98T8i5ZOl",
        "outputId": "5d67f482-bf6d-4de5-984f-4ace5e2e37e9"
      },
      "execution_count": null,
      "outputs": [
        {
          "output_type": "stream",
          "name": "stdout",
          "text": [
            "\u001b[96m\u001b[1mNOTE: To disable printing of planning engine credits, add this line to your code: `up.shortcuts.get_environment().credits_stream = None`\n",
            "\u001b[0m\u001b[96m  *** Credits ***\n",
            "\u001b[0m\u001b[96m  * In operation mode `OneshotPlanner` at line 1 of `<ipython-input-5-ef9b04792df7>`, \u001b[0m\u001b[96myou are using the following planning engine:\n",
            "\u001b[0m\u001b[96m  * Engine name: FMAP\n",
            "  * Developers:  Alejandro Torreño, Oscar Sapena and Eva Onaindia\n",
            "\u001b[0m\u001b[96m  * Description: \u001b[0m\u001b[96mFMAP: A Platform for the Development of Distributed Multi-Agent Planning Systems.\u001b[0m\u001b[96m\n",
            "\u001b[0m\u001b[96m\n",
            "\u001b[0mFMAP Returned Sequential Plans object: <generator object PartialOrderPlan.all_sequential_plans at 0x7fdf36e6bf20>\n",
            "0 Sequential Plans: [scale_a.open_door, robot_a.movegripper]\n",
            "1 Sequential Plans: [robot_a.movegripper, scale_a.open_door]\n",
            "Adjacency list: {robot_a.movegripper: [], scale_a.open_door: []}\n",
            "result: PlanGenerationResult(status=<PlanGenerationResultStatus.SOLVED_SATISFICING: 1>, plan=DiGraph with 2 nodes and 0 edges, engine_name='FMAP', metrics=None, log_messages=[LogMessage(level=<LogLevel.INFO: 2>, message='; Hdtg = 0, Hlan = 0\\n; Hdtg = 0, Hlan = 0\\n; Hdtg = 0, Hlan = 0\\n; Hdtg = 0, Hlan = 0\\n\\n; Solution plan - CoDMAP Distributed format\\n; -----------------------------------------\\n0: (movegripper robot_a)\\n0: (open_door scale_a)\\n; Stopping...\\n'), LogMessage(level=<LogLevel.ERROR: 4>, message='')])\n"
          ]
        }
      ]
    },
    {
      "cell_type": "code",
      "source": [],
      "metadata": {
        "id": "TnxbGFkYbnnq"
      },
      "execution_count": null,
      "outputs": []
    }
  ]
}